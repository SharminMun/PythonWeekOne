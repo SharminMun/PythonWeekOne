{
  "cells": [
    {
      "cell_type": "markdown",
      "id": "1331faa1",
      "metadata": {
        "id": "1331faa1"
      },
      "source": [
        "You can order print and ebook versions of *Think Python 3e* from\n",
        "[Bookshop.org](https://bookshop.org/a/98697/9781098155438) and\n",
        "[Amazon](https://www.amazon.com/_/dp/1098155432?smid=ATVPDKIKX0DER&_encoding=UTF8&tag=oreilly20-20&_encoding=UTF8&tag=greenteapre01-20&linkCode=ur2&linkId=e2a529f94920295d27ec8a06e757dc7c&camp=1789&creative=9325)."
      ]
    },
    {
      "cell_type": "code",
      "execution_count": 266,
      "id": "295ac6d7",
      "metadata": {
        "tags": [],
        "id": "295ac6d7"
      },
      "outputs": [],
      "source": [
        "from os.path import basename, exists\n",
        "\n",
        "def download(url):\n",
        "    filename = basename(url)\n",
        "    if not exists(filename):\n",
        "        from urllib.request import urlretrieve\n",
        "\n",
        "        local, _ = urlretrieve(url, filename)\n",
        "        print(\"Downloaded \" + str(local))\n",
        "    return filename\n",
        "\n",
        "download('https://github.com/AllenDowney/ThinkPython/raw/v3/thinkpython.py');\n",
        "download('https://github.com/AllenDowney/ThinkPython/raw/v3/diagram.py');\n",
        "\n",
        "import thinkpython"
      ]
    },
    {
      "cell_type": "markdown",
      "id": "5705b2a6",
      "metadata": {
        "tags": [],
        "id": "5705b2a6"
      },
      "source": [
        "# Tuples\n",
        "\n",
        "This chapter introduces one more built-in type, the tuple, and then shows how lists, dictionaries, and tuples work together.\n",
        "It also presents tuple assignment and a useful feature for functions with variable-length argument lists: the packing and unpacking operators.\n",
        "\n",
        "In the exercises, we'll use tuples, along with lists and dictionaries, to solve more word puzzles and implement efficient algorithms.\n",
        "\n",
        "One note: There are two ways to pronounce \"tuple\".\n",
        "Some people say \"tuh-ple\", which rhymes with \"supple\".\n",
        "But in the context of programming, most people say \"too-ple\", which rhymes with \"quadruple\"."
      ]
    },
    {
      "cell_type": "markdown",
      "id": "19474596",
      "metadata": {
        "id": "19474596"
      },
      "source": [
        "## Tuples are like lists\n",
        "\n",
        "A tuple is a sequence of values. The values can be any type, and they are indexed by integers, so tuples are a lot like lists.\n",
        "The important difference is that tuples are immutable.\n",
        "\n",
        "To create a tuple, you can write a comma-separated list of values."
      ]
    },
    {
      "cell_type": "code",
      "execution_count": 267,
      "id": "fb0bdca2",
      "metadata": {
        "id": "fb0bdca2",
        "outputId": "e6450f7a-f093-45be-9500-0b75a1bf116c",
        "colab": {
          "base_uri": "https://localhost:8080/"
        }
      },
      "outputs": [
        {
          "output_type": "execute_result",
          "data": {
            "text/plain": [
              "tuple"
            ]
          },
          "metadata": {},
          "execution_count": 267
        }
      ],
      "source": [
        "t = 'l', 'u', 'p', 'i', 'n'\n",
        "type(t)"
      ]
    },
    {
      "cell_type": "markdown",
      "id": "a2ec15d8",
      "metadata": {
        "id": "a2ec15d8"
      },
      "source": [
        "Although it is not necessary, it is common to enclose tuples in parentheses."
      ]
    },
    {
      "cell_type": "code",
      "execution_count": 268,
      "id": "5a6da881",
      "metadata": {
        "id": "5a6da881",
        "outputId": "a0b43856-0497-44d3-c481-be9f3e2c73cf",
        "colab": {
          "base_uri": "https://localhost:8080/"
        }
      },
      "outputs": [
        {
          "output_type": "execute_result",
          "data": {
            "text/plain": [
              "tuple"
            ]
          },
          "metadata": {},
          "execution_count": 268
        }
      ],
      "source": [
        "t = ('l', 'u', 'p', 'i', 'n')\n",
        "type(t)"
      ]
    },
    {
      "cell_type": "markdown",
      "id": "9194a159",
      "metadata": {
        "id": "9194a159"
      },
      "source": [
        "To create a tuple with a single element, you have to include a final comma."
      ]
    },
    {
      "cell_type": "code",
      "execution_count": 269,
      "id": "e2596ca7",
      "metadata": {
        "id": "e2596ca7",
        "outputId": "f0577cf2-2154-4a8c-a277-bd06b2ba3888",
        "colab": {
          "base_uri": "https://localhost:8080/"
        }
      },
      "outputs": [
        {
          "output_type": "execute_result",
          "data": {
            "text/plain": [
              "tuple"
            ]
          },
          "metadata": {},
          "execution_count": 269
        }
      ],
      "source": [
        "t1 = 'p',\n",
        "type(t1)"
      ]
    },
    {
      "cell_type": "markdown",
      "id": "e39b95a5",
      "metadata": {
        "id": "e39b95a5"
      },
      "source": [
        "A single value in parentheses is not a tuple."
      ]
    },
    {
      "cell_type": "code",
      "execution_count": 270,
      "id": "a0d350a6",
      "metadata": {
        "id": "a0d350a6",
        "outputId": "19ae0aff-b283-4fc9-e3a5-6babd3c67abd",
        "colab": {
          "base_uri": "https://localhost:8080/"
        }
      },
      "outputs": [
        {
          "output_type": "execute_result",
          "data": {
            "text/plain": [
              "str"
            ]
          },
          "metadata": {},
          "execution_count": 270
        }
      ],
      "source": [
        "t2 = ('p')\n",
        "type(t2)"
      ]
    },
    {
      "cell_type": "markdown",
      "id": "a64bfb64",
      "metadata": {
        "id": "a64bfb64"
      },
      "source": [
        "Another way to create a tuple is the built-in function `tuple`. With no\n",
        "argument, it creates an empty tuple."
      ]
    },
    {
      "cell_type": "code",
      "execution_count": 271,
      "id": "c9100ee4",
      "metadata": {
        "id": "c9100ee4",
        "outputId": "f95e47df-4de1-40a7-8c5a-72d9892ed499",
        "colab": {
          "base_uri": "https://localhost:8080/"
        }
      },
      "outputs": [
        {
          "output_type": "execute_result",
          "data": {
            "text/plain": [
              "()"
            ]
          },
          "metadata": {},
          "execution_count": 271
        }
      ],
      "source": [
        "t = tuple()\n",
        "t"
      ]
    },
    {
      "cell_type": "markdown",
      "id": "f3447831",
      "metadata": {
        "id": "f3447831"
      },
      "source": [
        "If the argument is a sequence (string, list or tuple), the result is a\n",
        "tuple with the elements of the sequence."
      ]
    },
    {
      "cell_type": "code",
      "execution_count": 272,
      "id": "44bd3d83",
      "metadata": {
        "id": "44bd3d83",
        "outputId": "a946f2ab-c804-47de-ebac-44b5156637fc",
        "colab": {
          "base_uri": "https://localhost:8080/"
        }
      },
      "outputs": [
        {
          "output_type": "execute_result",
          "data": {
            "text/plain": [
              "('l', 'u', 'p', 'i', 'n')"
            ]
          },
          "metadata": {},
          "execution_count": 272
        }
      ],
      "source": [
        "t = tuple('lupin')\n",
        "t"
      ]
    },
    {
      "cell_type": "markdown",
      "id": "2e48b980",
      "metadata": {
        "id": "2e48b980"
      },
      "source": [
        "Because `tuple` is the name of a built-in function, you should avoid using it as a variable name.\n",
        "\n",
        "Most list operators also work with tuples.\n",
        "For example, the bracket operator indexes an element."
      ]
    },
    {
      "cell_type": "code",
      "execution_count": 273,
      "id": "92e55b2c",
      "metadata": {
        "id": "92e55b2c",
        "outputId": "2952b3a0-be35-4f84-e051-1c5e50856e5e",
        "colab": {
          "base_uri": "https://localhost:8080/",
          "height": 35
        }
      },
      "outputs": [
        {
          "output_type": "execute_result",
          "data": {
            "text/plain": [
              "'l'"
            ],
            "application/vnd.google.colaboratory.intrinsic+json": {
              "type": "string"
            }
          },
          "metadata": {},
          "execution_count": 273
        }
      ],
      "source": [
        "t[0]"
      ]
    },
    {
      "cell_type": "markdown",
      "id": "2f702785",
      "metadata": {
        "id": "2f702785"
      },
      "source": [
        "And the slice operator selects a range of elements."
      ]
    },
    {
      "cell_type": "code",
      "execution_count": 274,
      "id": "38ee5c2a",
      "metadata": {
        "id": "38ee5c2a",
        "outputId": "f065e476-0509-4eca-c722-725441d9c14e",
        "colab": {
          "base_uri": "https://localhost:8080/"
        }
      },
      "outputs": [
        {
          "output_type": "execute_result",
          "data": {
            "text/plain": [
              "('u', 'p')"
            ]
          },
          "metadata": {},
          "execution_count": 274
        }
      ],
      "source": [
        "t[1:3]"
      ]
    },
    {
      "cell_type": "markdown",
      "id": "c9ed9af2",
      "metadata": {
        "id": "c9ed9af2"
      },
      "source": [
        "The `+` operator concatenates tuples."
      ]
    },
    {
      "cell_type": "code",
      "execution_count": 275,
      "id": "2e0e311a",
      "metadata": {
        "id": "2e0e311a",
        "outputId": "3626bd1c-7a40-4cb4-b568-2557df0867bb",
        "colab": {
          "base_uri": "https://localhost:8080/"
        }
      },
      "outputs": [
        {
          "output_type": "execute_result",
          "data": {
            "text/plain": [
              "('l', 'u', 'p', 'i', 'n')"
            ]
          },
          "metadata": {},
          "execution_count": 275
        }
      ],
      "source": [
        "tuple('lup') + ('i', 'n')"
      ]
    },
    {
      "cell_type": "markdown",
      "id": "1d7dcd6d",
      "metadata": {
        "id": "1d7dcd6d"
      },
      "source": [
        "And the `*` operator duplicates a tuple a given number of times."
      ]
    },
    {
      "cell_type": "code",
      "execution_count": 276,
      "id": "8bb7d715",
      "metadata": {
        "id": "8bb7d715",
        "outputId": "5ad2dc04-4ff4-44a1-b8a2-ee0db3d02a56",
        "colab": {
          "base_uri": "https://localhost:8080/"
        }
      },
      "outputs": [
        {
          "output_type": "execute_result",
          "data": {
            "text/plain": [
              "('s', 'p', 'a', 'm', 's', 'p', 'a', 'm')"
            ]
          },
          "metadata": {},
          "execution_count": 276
        }
      ],
      "source": [
        "tuple('spam') * 2"
      ]
    },
    {
      "cell_type": "markdown",
      "id": "a53ce8bd",
      "metadata": {
        "id": "a53ce8bd"
      },
      "source": [
        "The `sorted` function works with tuples -- but the result is a list, not a tuple."
      ]
    },
    {
      "cell_type": "code",
      "execution_count": 277,
      "id": "e653e00f",
      "metadata": {
        "id": "e653e00f",
        "outputId": "404a577c-5c7f-423c-a45e-81d5731091f5",
        "colab": {
          "base_uri": "https://localhost:8080/"
        }
      },
      "outputs": [
        {
          "output_type": "execute_result",
          "data": {
            "text/plain": [
              "['i', 'l', 'n', 'p', 'u']"
            ]
          },
          "metadata": {},
          "execution_count": 277
        }
      ],
      "source": [
        "sorted(t)"
      ]
    },
    {
      "cell_type": "markdown",
      "id": "50e5cadc",
      "metadata": {
        "id": "50e5cadc"
      },
      "source": [
        "The `reversed` function also works with tuples."
      ]
    },
    {
      "cell_type": "code",
      "execution_count": 278,
      "id": "8969188d",
      "metadata": {
        "id": "8969188d",
        "outputId": "aae49983-8a8e-4c46-a690-3c344465d9f3",
        "colab": {
          "base_uri": "https://localhost:8080/"
        }
      },
      "outputs": [
        {
          "output_type": "execute_result",
          "data": {
            "text/plain": [
              "<reversed at 0x7be6803e1570>"
            ]
          },
          "metadata": {},
          "execution_count": 278
        }
      ],
      "source": [
        "reversed(t)"
      ]
    },
    {
      "cell_type": "markdown",
      "id": "f6d973c5",
      "metadata": {
        "id": "f6d973c5"
      },
      "source": [
        "The result is a `reversed` object, which we can convert to a list or tuple."
      ]
    },
    {
      "cell_type": "code",
      "execution_count": 279,
      "id": "65d7ebaa",
      "metadata": {
        "id": "65d7ebaa",
        "outputId": "483efdcc-6e94-4127-b8e5-507f88e39349",
        "colab": {
          "base_uri": "https://localhost:8080/"
        }
      },
      "outputs": [
        {
          "output_type": "execute_result",
          "data": {
            "text/plain": [
              "('n', 'i', 'p', 'u', 'l')"
            ]
          },
          "metadata": {},
          "execution_count": 279
        }
      ],
      "source": [
        "tuple(reversed(t))"
      ]
    },
    {
      "cell_type": "markdown",
      "id": "a7cb9ee6",
      "metadata": {
        "id": "a7cb9ee6"
      },
      "source": [
        "Based on the examples so far, it might seem like tuples are the same as lists."
      ]
    },
    {
      "cell_type": "markdown",
      "id": "8c3f381e",
      "metadata": {
        "id": "8c3f381e"
      },
      "source": [
        "## But tuples are immutable\n",
        "\n",
        "If you try to modify a tuple with the bracket operator, you get a `TypeError`."
      ]
    },
    {
      "cell_type": "code",
      "execution_count": 280,
      "id": "b4970fe0",
      "metadata": {
        "tags": [],
        "id": "b4970fe0",
        "outputId": "03228368-2f68-4bd1-8222-573fc1dc90fc",
        "colab": {
          "base_uri": "https://localhost:8080/",
          "height": 162
        }
      },
      "outputs": [
        {
          "output_type": "error",
          "ename": "TypeError",
          "evalue": "'tuple' object does not support item assignment",
          "traceback": [
            "\u001b[0;31m---------------------------------------------------------------------------\u001b[0m",
            "\u001b[0;31mTypeError\u001b[0m                                 Traceback (most recent call last)",
            "\u001b[0;32m<ipython-input-280-542de6b3cb11>\u001b[0m in \u001b[0;36m<cell line: 1>\u001b[0;34m()\u001b[0m\n\u001b[0;32m----> 1\u001b[0;31m \u001b[0mt\u001b[0m\u001b[0;34m[\u001b[0m\u001b[0;36m0\u001b[0m\u001b[0;34m]\u001b[0m \u001b[0;34m=\u001b[0m \u001b[0;34m'L'\u001b[0m\u001b[0;34m\u001b[0m\u001b[0;34m\u001b[0m\u001b[0m\n\u001b[0m        \u001b[0;36mglobal\u001b[0m \u001b[0;36mt\u001b[0m \u001b[0;34m= ('l', 'u', 'p', 'i', 'n')\u001b[0m\n",
            "\u001b[0;31mTypeError\u001b[0m: 'tuple' object does not support item assignment"
          ]
        }
      ],
      "source": [
        "%%expect TypeError\n",
        "t[0] = 'L'"
      ]
    },
    {
      "cell_type": "markdown",
      "id": "592ce99c",
      "metadata": {
        "id": "592ce99c"
      },
      "source": [
        "And tuples don't have any of the methods that modify lists, like `append` and `remove`."
      ]
    },
    {
      "cell_type": "code",
      "execution_count": 281,
      "id": "772738cc",
      "metadata": {
        "tags": [],
        "id": "772738cc",
        "outputId": "e6490ae2-2239-444a-fc51-d26405b23562",
        "colab": {
          "base_uri": "https://localhost:8080/",
          "height": 162
        }
      },
      "outputs": [
        {
          "output_type": "error",
          "ename": "AttributeError",
          "evalue": "'tuple' object has no attribute 'remove'",
          "traceback": [
            "\u001b[0;31m---------------------------------------------------------------------------\u001b[0m",
            "\u001b[0;31mAttributeError\u001b[0m                            Traceback (most recent call last)",
            "\u001b[0;32m<ipython-input-281-afa5a8a38378>\u001b[0m in \u001b[0;36m<cell line: 1>\u001b[0;34m()\u001b[0m\n\u001b[0;32m----> 1\u001b[0;31m \u001b[0mt\u001b[0m\u001b[0;34m.\u001b[0m\u001b[0mremove\u001b[0m\u001b[0;34m(\u001b[0m\u001b[0;34m'l'\u001b[0m\u001b[0;34m)\u001b[0m\u001b[0;34m\u001b[0m\u001b[0;34m\u001b[0m\u001b[0m\n\u001b[0m        \u001b[0;36mglobal\u001b[0m \u001b[0;36mt.remove\u001b[0m \u001b[0;34m= \u001b[0;36mundefined\u001b[0m\u001b[0m\n",
            "\u001b[0;31mAttributeError\u001b[0m: 'tuple' object has no attribute 'remove'"
          ]
        }
      ],
      "source": [
        "%%expect AttributeError\n",
        "\n",
        "t.remove('l')"
      ]
    },
    {
      "cell_type": "markdown",
      "id": "70772ba2",
      "metadata": {
        "id": "70772ba2"
      },
      "source": [
        "Recall that an \"attribute\" is a variable or method associated with an object -- this error message means that tuples don't have a method named `remove`.\n",
        "\n",
        "Because tuples are immutable, they are hashable, which means they can be used as keys in a dictionary.\n",
        "For example, the following dictionary contains two tuples as keys that map to integers."
      ]
    },
    {
      "cell_type": "code",
      "execution_count": 282,
      "id": "37e67042",
      "metadata": {
        "id": "37e67042"
      },
      "outputs": [],
      "source": [
        "d = {}\n",
        "d[1, 2] = 3\n",
        "d[3, 4] = 7"
      ]
    },
    {
      "cell_type": "markdown",
      "id": "47ba17ab",
      "metadata": {
        "id": "47ba17ab"
      },
      "source": [
        "We can look up a tuple in a dictionary like this:"
      ]
    },
    {
      "cell_type": "code",
      "execution_count": 283,
      "id": "d809a490",
      "metadata": {
        "id": "d809a490",
        "outputId": "96e093b0-28ad-4938-cc4e-ccdac93b003a",
        "colab": {
          "base_uri": "https://localhost:8080/"
        }
      },
      "outputs": [
        {
          "output_type": "execute_result",
          "data": {
            "text/plain": [
              "3"
            ]
          },
          "metadata": {},
          "execution_count": 283
        }
      ],
      "source": [
        "d[1, 2]"
      ]
    },
    {
      "cell_type": "markdown",
      "id": "f2c0a354",
      "metadata": {
        "id": "f2c0a354"
      },
      "source": [
        "Or if we have a variable that refers to a tuple, we can use it as a key."
      ]
    },
    {
      "cell_type": "code",
      "execution_count": 284,
      "id": "dfc42a8b",
      "metadata": {
        "id": "dfc42a8b",
        "outputId": "7f862b8d-4f9f-4651-ada1-6326a5183008",
        "colab": {
          "base_uri": "https://localhost:8080/"
        }
      },
      "outputs": [
        {
          "output_type": "execute_result",
          "data": {
            "text/plain": [
              "7"
            ]
          },
          "metadata": {},
          "execution_count": 284
        }
      ],
      "source": [
        "t = (3, 4)\n",
        "d[t]"
      ]
    },
    {
      "cell_type": "markdown",
      "id": "2ea8fc3c",
      "metadata": {
        "id": "2ea8fc3c"
      },
      "source": [
        "Tuples can also appear as values in a dictionary."
      ]
    },
    {
      "cell_type": "code",
      "execution_count": 285,
      "id": "2debf30c",
      "metadata": {
        "id": "2debf30c",
        "outputId": "7f3eb120-82b5-422a-eb65-3a11740719ca",
        "colab": {
          "base_uri": "https://localhost:8080/"
        }
      },
      "outputs": [
        {
          "output_type": "execute_result",
          "data": {
            "text/plain": [
              "{'key': ('a', 'b', 'c')}"
            ]
          },
          "metadata": {},
          "execution_count": 285
        }
      ],
      "source": [
        "t = tuple('abc')\n",
        "d = {'key': t}\n",
        "d"
      ]
    },
    {
      "cell_type": "markdown",
      "id": "25655ab3",
      "metadata": {
        "id": "25655ab3"
      },
      "source": [
        "## Tuple assignment\n",
        "\n",
        "You can put a tuple of variables on the left side of an assignment, and a tuple of values on the right."
      ]
    },
    {
      "cell_type": "code",
      "execution_count": 286,
      "id": "1e94ea37",
      "metadata": {
        "id": "1e94ea37"
      },
      "outputs": [],
      "source": [
        "a, b = 1, 2"
      ]
    },
    {
      "cell_type": "markdown",
      "id": "92c00ceb",
      "metadata": {
        "id": "92c00ceb"
      },
      "source": [
        "The values are assigned to the variables from left to right -- in this example, `a` gets the value `1` and `b` gets the value `2`.\n",
        "We can display the results like this:"
      ]
    },
    {
      "cell_type": "code",
      "execution_count": 287,
      "id": "99c96c7f",
      "metadata": {
        "id": "99c96c7f",
        "outputId": "187e21b2-7889-419c-9369-e94e8e039225",
        "colab": {
          "base_uri": "https://localhost:8080/"
        }
      },
      "outputs": [
        {
          "output_type": "execute_result",
          "data": {
            "text/plain": [
              "(1, 2)"
            ]
          },
          "metadata": {},
          "execution_count": 287
        }
      ],
      "source": [
        "a, b"
      ]
    },
    {
      "cell_type": "markdown",
      "id": "6362b36e",
      "metadata": {
        "id": "6362b36e"
      },
      "source": [
        "More generally, if the left side of an assignment is a tuple, the right side can be any kind of sequence -- string, list or tuple.\n",
        "For example, to split an email address into a user name and a domain, you could write:"
      ]
    },
    {
      "cell_type": "code",
      "execution_count": 288,
      "id": "b67881ed",
      "metadata": {
        "id": "b67881ed"
      },
      "outputs": [],
      "source": [
        "email = 'monty@python.org'\n",
        "username, domain = email.split('@')"
      ]
    },
    {
      "cell_type": "markdown",
      "id": "d134a94c",
      "metadata": {
        "id": "d134a94c"
      },
      "source": [
        "The return value from `split` is a list with two elements -- the first element is assigned to `username`, the second to `domain`."
      ]
    },
    {
      "cell_type": "code",
      "execution_count": 289,
      "id": "b4515e2b",
      "metadata": {
        "id": "b4515e2b",
        "outputId": "4bff3254-a8f8-415d-961d-811f2b561026",
        "colab": {
          "base_uri": "https://localhost:8080/"
        }
      },
      "outputs": [
        {
          "output_type": "execute_result",
          "data": {
            "text/plain": [
              "('monty', 'python.org')"
            ]
          },
          "metadata": {},
          "execution_count": 289
        }
      ],
      "source": [
        "username, domain"
      ]
    },
    {
      "cell_type": "markdown",
      "id": "5a7e3c62",
      "metadata": {
        "id": "5a7e3c62"
      },
      "source": [
        "The number of variables on the left and the number of values on the\n",
        "right have to be the same -- otherwise you get a `ValueError`."
      ]
    },
    {
      "cell_type": "code",
      "execution_count": 290,
      "id": "8e5b4a14",
      "metadata": {
        "tags": [],
        "id": "8e5b4a14",
        "outputId": "6abbf2b6-95ce-42c4-f42b-caae651b6d8b",
        "colab": {
          "base_uri": "https://localhost:8080/",
          "height": 180
        }
      },
      "outputs": [
        {
          "output_type": "error",
          "ename": "ValueError",
          "evalue": "too many values to unpack (expected 2)",
          "traceback": [
            "\u001b[0;31m---------------------------------------------------------------------------\u001b[0m",
            "\u001b[0;31mValueError\u001b[0m                                Traceback (most recent call last)",
            "\u001b[0;32m<ipython-input-290-8904fd2ea925>\u001b[0m in \u001b[0;36m<cell line: 1>\u001b[0;34m()\u001b[0m\n\u001b[0;32m----> 1\u001b[0;31m \u001b[0ma\u001b[0m\u001b[0;34m,\u001b[0m \u001b[0mb\u001b[0m \u001b[0;34m=\u001b[0m \u001b[0;36m1\u001b[0m\u001b[0;34m,\u001b[0m \u001b[0;36m2\u001b[0m\u001b[0;34m,\u001b[0m \u001b[0;36m3\u001b[0m\u001b[0;34m\u001b[0m\u001b[0;34m\u001b[0m\u001b[0m\n\u001b[0m        \u001b[0;36mglobal\u001b[0m \u001b[0;36ma\u001b[0m \u001b[0;34m= 1\u001b[0m\u001b[0;34m\n        \u001b[0m\u001b[0;36mglobal\u001b[0m \u001b[0;36mb\u001b[0m \u001b[0;34m= 2\u001b[0m\n",
            "\u001b[0;31mValueError\u001b[0m: too many values to unpack (expected 2)"
          ]
        }
      ],
      "source": [
        "%%expect ValueError\n",
        "a, b = 1, 2, 3"
      ]
    },
    {
      "cell_type": "markdown",
      "id": "808c2928",
      "metadata": {
        "id": "808c2928"
      },
      "source": [
        "Tuple assignment is useful if you want to swap the values of two variables.\n",
        "With conventional assignments, you have to use a temporary variable, like this:"
      ]
    },
    {
      "cell_type": "code",
      "execution_count": 291,
      "id": "2389d6de",
      "metadata": {
        "id": "2389d6de"
      },
      "outputs": [],
      "source": [
        "temp = a\n",
        "a = b\n",
        "b = temp"
      ]
    },
    {
      "cell_type": "markdown",
      "id": "98496d02",
      "metadata": {
        "id": "98496d02"
      },
      "source": [
        "That works, but with tuple assignment we can do the same thing without a temporary variable."
      ]
    },
    {
      "cell_type": "code",
      "execution_count": 292,
      "id": "5512edec",
      "metadata": {
        "id": "5512edec"
      },
      "outputs": [],
      "source": [
        "a, b = b, a"
      ]
    },
    {
      "cell_type": "markdown",
      "id": "a66a87bc",
      "metadata": {
        "id": "a66a87bc"
      },
      "source": [
        "This works because all of the expressions on the right side are evaluated before any of the assignments.\n",
        "\n",
        "We can also use tuple assignment in a `for` statement.\n",
        "For example, to loop through the items in a dictionary, we can use the `items` method."
      ]
    },
    {
      "cell_type": "code",
      "execution_count": 293,
      "id": "651ab417",
      "metadata": {
        "id": "651ab417",
        "outputId": "135f8234-6e8c-441a-e413-432f8ea52f3b",
        "colab": {
          "base_uri": "https://localhost:8080/"
        }
      },
      "outputs": [
        {
          "output_type": "stream",
          "name": "stdout",
          "text": [
            "one -> 1\n",
            "two -> 2\n"
          ]
        }
      ],
      "source": [
        "d = {'one': 1, 'two': 2}\n",
        "\n",
        "for item in d.items():\n",
        "    key, value = item\n",
        "    print(key, '->', value)"
      ]
    },
    {
      "cell_type": "markdown",
      "id": "dd0d4feb",
      "metadata": {
        "id": "dd0d4feb"
      },
      "source": [
        "Each time through the loop, `item` is assigned a tuple that contains a key and the corresponding value.\n",
        "\n",
        "We can write this loop more concisely, like this:"
      ]
    },
    {
      "cell_type": "code",
      "execution_count": 294,
      "id": "2c0b7d47",
      "metadata": {
        "id": "2c0b7d47",
        "outputId": "58a90426-99b8-4f0a-9ea6-eb2d7b7046d3",
        "colab": {
          "base_uri": "https://localhost:8080/"
        }
      },
      "outputs": [
        {
          "output_type": "stream",
          "name": "stdout",
          "text": [
            "one -> 1\n",
            "two -> 2\n"
          ]
        }
      ],
      "source": [
        "for key, value in d.items():\n",
        "    print(key, '->', value)"
      ]
    },
    {
      "cell_type": "markdown",
      "id": "f0513578",
      "metadata": {
        "id": "f0513578"
      },
      "source": [
        "Each time through the loop, a key and the corresponding value are assigned directly to `key` and `value`."
      ]
    },
    {
      "cell_type": "markdown",
      "id": "efedeb37",
      "metadata": {
        "id": "efedeb37"
      },
      "source": [
        "## Tuples as return values\n",
        "\n",
        "Strictly speaking, a function can only return one value, but if the\n",
        "value is a tuple, the effect is the same as returning multiple values.\n",
        "For example, if you want to divide two integers and compute the quotient\n",
        "and remainder, it is inefficient to compute `x//y` and then `x%y`. It is\n",
        "better to compute them both at the same time.\n",
        "\n",
        "The built-in function `divmod` takes two arguments and returns a tuple\n",
        "of two values, the quotient and remainder."
      ]
    },
    {
      "cell_type": "code",
      "execution_count": 295,
      "id": "fff80eaa",
      "metadata": {
        "id": "fff80eaa",
        "outputId": "c1282425-acc6-478b-ec6e-1bf2671ba24f",
        "colab": {
          "base_uri": "https://localhost:8080/"
        }
      },
      "outputs": [
        {
          "output_type": "execute_result",
          "data": {
            "text/plain": [
              "(2, 1)"
            ]
          },
          "metadata": {},
          "execution_count": 295
        }
      ],
      "source": [
        "divmod(7, 3)"
      ]
    },
    {
      "cell_type": "markdown",
      "id": "33f3c57d",
      "metadata": {
        "id": "33f3c57d"
      },
      "source": [
        "We can use tuple assignment to store the elements of the tuple in two variables."
      ]
    },
    {
      "cell_type": "code",
      "execution_count": 296,
      "id": "4a0eb2a9",
      "metadata": {
        "id": "4a0eb2a9",
        "outputId": "c9f1c895-a4cb-426c-a996-0fe1f131f820",
        "colab": {
          "base_uri": "https://localhost:8080/"
        }
      },
      "outputs": [
        {
          "output_type": "execute_result",
          "data": {
            "text/plain": [
              "2"
            ]
          },
          "metadata": {},
          "execution_count": 296
        }
      ],
      "source": [
        "quotient, remainder = divmod(7, 3)\n",
        "quotient"
      ]
    },
    {
      "cell_type": "code",
      "execution_count": 297,
      "id": "d74ba1b6",
      "metadata": {
        "id": "d74ba1b6",
        "outputId": "178702f4-0775-4ef9-c50b-701a0e392340",
        "colab": {
          "base_uri": "https://localhost:8080/"
        }
      },
      "outputs": [
        {
          "output_type": "execute_result",
          "data": {
            "text/plain": [
              "1"
            ]
          },
          "metadata": {},
          "execution_count": 297
        }
      ],
      "source": [
        "remainder"
      ]
    },
    {
      "cell_type": "markdown",
      "id": "15079805",
      "metadata": {
        "id": "15079805"
      },
      "source": [
        "Here is an example of a function that returns a tuple."
      ]
    },
    {
      "cell_type": "code",
      "execution_count": 298,
      "id": "dad3b3bb",
      "metadata": {
        "id": "dad3b3bb"
      },
      "outputs": [],
      "source": [
        "def min_max(t):\n",
        "    return min(t), max(t)"
      ]
    },
    {
      "cell_type": "markdown",
      "id": "43c4e1e0",
      "metadata": {
        "id": "43c4e1e0"
      },
      "source": [
        "`max` and `min` are built-in functions that find the largest and smallest elements of a sequence.\n",
        "`min_max` computes both and returns a tuple of two values."
      ]
    },
    {
      "cell_type": "code",
      "execution_count": 299,
      "id": "fbd90b0e",
      "metadata": {
        "id": "fbd90b0e",
        "outputId": "ed4ad0e6-e8cd-4342-ff93-cc565cd2f0f9",
        "colab": {
          "base_uri": "https://localhost:8080/"
        }
      },
      "outputs": [
        {
          "output_type": "execute_result",
          "data": {
            "text/plain": [
              "(1, 4)"
            ]
          },
          "metadata": {},
          "execution_count": 299
        }
      ],
      "source": [
        "min_max([2, 4, 1, 3])"
      ]
    },
    {
      "cell_type": "markdown",
      "id": "86b60e71",
      "metadata": {
        "id": "86b60e71"
      },
      "source": [
        "We can assign the results to variables like this:"
      ]
    },
    {
      "cell_type": "code",
      "execution_count": 300,
      "id": "5a101efb",
      "metadata": {
        "id": "5a101efb",
        "outputId": "233adf69-5f8c-40ff-ce74-3f065751abd0",
        "colab": {
          "base_uri": "https://localhost:8080/"
        }
      },
      "outputs": [
        {
          "output_type": "execute_result",
          "data": {
            "text/plain": [
              "(1, 4)"
            ]
          },
          "metadata": {},
          "execution_count": 300
        }
      ],
      "source": [
        "low, high = min_max([2, 4, 1, 3])\n",
        "low, high"
      ]
    },
    {
      "cell_type": "markdown",
      "id": "112b5aa2",
      "metadata": {
        "tags": [],
        "id": "112b5aa2"
      },
      "source": [
        "## Argument packing\n",
        "\n",
        "Functions can take a variable number of arguments.\n",
        "A parameter name that begins with the `*` operator **packs** arguments into a tuple.\n",
        "For example, the following function takes any number of arguments and computes their arithmetic mean -- that is, their sum divided by the number of arguments."
      ]
    },
    {
      "cell_type": "code",
      "execution_count": 301,
      "id": "0a33e2d0",
      "metadata": {
        "id": "0a33e2d0"
      },
      "outputs": [],
      "source": [
        "def mean(*args):\n",
        "    return sum(args) / len(args)"
      ]
    },
    {
      "cell_type": "markdown",
      "id": "6044fc1b",
      "metadata": {
        "id": "6044fc1b"
      },
      "source": [
        "The parameter can have any name you like, but `args` is conventional.\n",
        "We can call the function like this:"
      ]
    },
    {
      "cell_type": "code",
      "execution_count": 302,
      "id": "336a08ca",
      "metadata": {
        "id": "336a08ca",
        "outputId": "f327a3f8-de36-4a79-ccbc-a55d63259a5b",
        "colab": {
          "base_uri": "https://localhost:8080/"
        }
      },
      "outputs": [
        {
          "output_type": "execute_result",
          "data": {
            "text/plain": [
              "2.0"
            ]
          },
          "metadata": {},
          "execution_count": 302
        }
      ],
      "source": [
        "mean(1, 2, 3)"
      ]
    },
    {
      "cell_type": "markdown",
      "id": "a5e8b158",
      "metadata": {
        "id": "a5e8b158"
      },
      "source": [
        "If you have a sequence of values and you want to pass them to a function as multiple arguments, you can use the `*` operator to **unpack** the tuple.\n",
        "For example, `divmod` takes exactly two arguments -- if you pass a tuple as a parameter, you get an error."
      ]
    },
    {
      "cell_type": "code",
      "execution_count": 303,
      "id": "991810bc",
      "metadata": {
        "tags": [],
        "id": "991810bc",
        "outputId": "3101f0cd-cfac-482a-dd9b-931a6250504e",
        "colab": {
          "base_uri": "https://localhost:8080/",
          "height": 198
        }
      },
      "outputs": [
        {
          "output_type": "error",
          "ename": "TypeError",
          "evalue": "divmod expected 2 arguments, got 1",
          "traceback": [
            "\u001b[0;31m---------------------------------------------------------------------------\u001b[0m",
            "\u001b[0;31mTypeError\u001b[0m                                 Traceback (most recent call last)",
            "\u001b[0;32m<ipython-input-303-b9b469f7c0ca>\u001b[0m in \u001b[0;36m<cell line: 2>\u001b[0;34m()\u001b[0m\n\u001b[1;32m      1\u001b[0m \u001b[0mt\u001b[0m \u001b[0;34m=\u001b[0m \u001b[0;34m(\u001b[0m\u001b[0;36m7\u001b[0m\u001b[0;34m,\u001b[0m \u001b[0;36m3\u001b[0m\u001b[0;34m)\u001b[0m\u001b[0;34m\u001b[0m\u001b[0;34m\u001b[0m\u001b[0m\n\u001b[0;32m----> 2\u001b[0;31m \u001b[0mdivmod\u001b[0m\u001b[0;34m(\u001b[0m\u001b[0mt\u001b[0m\u001b[0;34m)\u001b[0m\u001b[0;34m\u001b[0m\u001b[0;34m\u001b[0m\u001b[0m\n\u001b[0m        \u001b[0;36mglobal\u001b[0m \u001b[0;36mdivmod\u001b[0m \u001b[0;34m= \u001b[0;36mundefined\u001b[0m\u001b[0m\u001b[0;34m\n        \u001b[0m\u001b[0;36mglobal\u001b[0m \u001b[0;36mt\u001b[0m \u001b[0;34m= (7, 3)\u001b[0m\n",
            "\u001b[0;31mTypeError\u001b[0m: divmod expected 2 arguments, got 1"
          ]
        }
      ],
      "source": [
        "%%expect TypeError\n",
        "t = (7, 3)\n",
        "divmod(t)"
      ]
    },
    {
      "cell_type": "markdown",
      "id": "5a9110db",
      "metadata": {
        "id": "5a9110db"
      },
      "source": [
        "Even though the tuple contains two elements, it counts as a single argument.\n",
        "But if you unpack the tuple, it is treated as two arguments."
      ]
    },
    {
      "cell_type": "code",
      "execution_count": 304,
      "id": "f25ebee1",
      "metadata": {
        "id": "f25ebee1",
        "outputId": "3adf59b7-ec66-47cc-c32a-c7fd3a3804b3",
        "colab": {
          "base_uri": "https://localhost:8080/"
        }
      },
      "outputs": [
        {
          "output_type": "execute_result",
          "data": {
            "text/plain": [
              "(2, 1)"
            ]
          },
          "metadata": {},
          "execution_count": 304
        }
      ],
      "source": [
        "divmod(*t)"
      ]
    },
    {
      "cell_type": "markdown",
      "id": "da554863",
      "metadata": {
        "id": "da554863"
      },
      "source": [
        "Packing and unpacking can be useful if you want to adapt the behavior of an existing function.\n",
        "For example, this function takes any number of arguments, removes the lowest and highest, and computes the mean of the rest."
      ]
    },
    {
      "cell_type": "code",
      "execution_count": 305,
      "id": "7ad64412",
      "metadata": {
        "id": "7ad64412"
      },
      "outputs": [],
      "source": [
        "def trimmed_mean(*args):\n",
        "    low, high = min_max(args)\n",
        "    trimmed = list(args)\n",
        "    trimmed.remove(low)\n",
        "    trimmed.remove(high)\n",
        "    return mean(*trimmed)"
      ]
    },
    {
      "cell_type": "markdown",
      "id": "d1e05e49",
      "metadata": {
        "id": "d1e05e49"
      },
      "source": [
        "First it uses `min_max` to find the lowest and highest elements.\n",
        "Then it converts `args` to a list so it can use the `remove` method.\n",
        "Finally it unpacks the list so the elements are passed to `mean` as separate arguments, rather than as a single list.\n",
        "\n",
        "Here's an example that shows the effect."
      ]
    },
    {
      "cell_type": "code",
      "execution_count": 306,
      "id": "b2863701",
      "metadata": {
        "id": "b2863701",
        "outputId": "22c5f169-2a04-4225-88d1-e4cdf2260f32",
        "colab": {
          "base_uri": "https://localhost:8080/"
        }
      },
      "outputs": [
        {
          "output_type": "execute_result",
          "data": {
            "text/plain": [
              "4.0"
            ]
          },
          "metadata": {},
          "execution_count": 306
        }
      ],
      "source": [
        "mean(1, 2, 3, 10)"
      ]
    },
    {
      "cell_type": "code",
      "execution_count": 307,
      "id": "cc1afa29",
      "metadata": {
        "id": "cc1afa29",
        "outputId": "99e468f4-d94f-4e3f-e36c-90df90f30ec0",
        "colab": {
          "base_uri": "https://localhost:8080/"
        }
      },
      "outputs": [
        {
          "output_type": "execute_result",
          "data": {
            "text/plain": [
              "2.5"
            ]
          },
          "metadata": {},
          "execution_count": 307
        }
      ],
      "source": [
        "trimmed_mean(1, 2, 3, 10)"
      ]
    },
    {
      "cell_type": "markdown",
      "id": "35e04996",
      "metadata": {
        "id": "35e04996"
      },
      "source": [
        "This kind of \"trimmed\" mean is used in some sports with subjective judging -- like diving and gymnastics -- to reduce the effect of a judge whose score deviates from the others."
      ]
    },
    {
      "cell_type": "markdown",
      "id": "c4572cd2",
      "metadata": {
        "id": "c4572cd2"
      },
      "source": [
        "## Zip\n",
        "\n",
        "Tuples are useful for looping through the elements of two sequences and performing operations on corresponding elements.\n",
        "For example, suppose two teams play a series of seven games, and we record their scores in two lists, one for each team."
      ]
    },
    {
      "cell_type": "code",
      "execution_count": 308,
      "id": "ad3e6f81",
      "metadata": {
        "id": "ad3e6f81"
      },
      "outputs": [],
      "source": [
        "scores1 = [1, 2, 4, 5, 1, 5, 2]\n",
        "scores2 = [5, 5, 2, 2, 5, 2, 3]"
      ]
    },
    {
      "cell_type": "markdown",
      "id": "b44f228b",
      "metadata": {
        "id": "b44f228b"
      },
      "source": [
        "Let's see how many games each team won.\n",
        "We'll use `zip`, which is a built-in function that takes two or more sequences and returns a **zip object**, so-called because it pairs up the elements of the sequences like the teeth of a zipper."
      ]
    },
    {
      "cell_type": "code",
      "execution_count": 309,
      "id": "9ce313ce",
      "metadata": {
        "id": "9ce313ce",
        "outputId": "8fa584e8-5385-4890-b6ec-c32bff584364",
        "colab": {
          "base_uri": "https://localhost:8080/"
        }
      },
      "outputs": [
        {
          "output_type": "execute_result",
          "data": {
            "text/plain": [
              "<zip at 0x7be6446218c0>"
            ]
          },
          "metadata": {},
          "execution_count": 309
        }
      ],
      "source": [
        "zip(scores1, scores2)"
      ]
    },
    {
      "cell_type": "markdown",
      "id": "9adcf8f9",
      "metadata": {
        "id": "9adcf8f9"
      },
      "source": [
        "We can use the zip object to loop through the values in the sequences pairwise."
      ]
    },
    {
      "cell_type": "code",
      "execution_count": 310,
      "id": "321d9c30",
      "metadata": {
        "id": "321d9c30",
        "outputId": "c6c405e7-a40f-4053-b3bf-6768b1927b5d",
        "colab": {
          "base_uri": "https://localhost:8080/"
        }
      },
      "outputs": [
        {
          "output_type": "stream",
          "name": "stdout",
          "text": [
            "(1, 5)\n",
            "(2, 5)\n",
            "(4, 2)\n",
            "(5, 2)\n",
            "(1, 5)\n",
            "(5, 2)\n",
            "(2, 3)\n"
          ]
        }
      ],
      "source": [
        "for pair in zip(scores1, scores2):\n",
        "     print(pair)"
      ]
    },
    {
      "cell_type": "markdown",
      "id": "51d1dabb",
      "metadata": {
        "id": "51d1dabb"
      },
      "source": [
        "Each time through the loop, `pair` gets assigned a tuple of scores.\n",
        "So we can assign the scores to variables, and count the victories for the first team, like this:"
      ]
    },
    {
      "cell_type": "code",
      "execution_count": 311,
      "id": "7eb73d5d",
      "metadata": {
        "id": "7eb73d5d",
        "outputId": "fb65b045-b0f2-4de5-cbc4-fee4aab63afc",
        "colab": {
          "base_uri": "https://localhost:8080/"
        }
      },
      "outputs": [
        {
          "output_type": "execute_result",
          "data": {
            "text/plain": [
              "3"
            ]
          },
          "metadata": {},
          "execution_count": 311
        }
      ],
      "source": [
        "wins = 0\n",
        "for team1, team2 in zip(scores1, scores2):\n",
        "    if team1 > team2:\n",
        "        wins += 1\n",
        "\n",
        "wins"
      ]
    },
    {
      "cell_type": "markdown",
      "id": "ad740fcd",
      "metadata": {
        "id": "ad740fcd"
      },
      "source": [
        "Sadly, the first team won only three games and lost the series.\n",
        "\n",
        "If you have two lists and you want a list of pairs, you can use `zip` and `list`."
      ]
    },
    {
      "cell_type": "code",
      "execution_count": 312,
      "id": "9529baa8",
      "metadata": {
        "id": "9529baa8",
        "outputId": "2ce1d1bd-948b-49d5-f45a-523d250ad212",
        "colab": {
          "base_uri": "https://localhost:8080/"
        }
      },
      "outputs": [
        {
          "output_type": "execute_result",
          "data": {
            "text/plain": [
              "[(1, 5), (2, 5), (4, 2), (5, 2), (1, 5), (5, 2), (2, 3)]"
            ]
          },
          "metadata": {},
          "execution_count": 312
        }
      ],
      "source": [
        "t = list(zip(scores1, scores2))\n",
        "t"
      ]
    },
    {
      "cell_type": "markdown",
      "id": "ec4249fa",
      "metadata": {
        "id": "ec4249fa"
      },
      "source": [
        "The result is a list of tuples, so we can get the result of the last game like this:"
      ]
    },
    {
      "cell_type": "code",
      "execution_count": 313,
      "id": "dbde77b8",
      "metadata": {
        "id": "dbde77b8",
        "outputId": "8cbb7257-bc58-4f81-ee28-3fbdb74dba3f",
        "colab": {
          "base_uri": "https://localhost:8080/"
        }
      },
      "outputs": [
        {
          "output_type": "execute_result",
          "data": {
            "text/plain": [
              "(2, 3)"
            ]
          },
          "metadata": {},
          "execution_count": 313
        }
      ],
      "source": [
        "t[-1]"
      ]
    },
    {
      "cell_type": "markdown",
      "id": "436486b9",
      "metadata": {
        "id": "436486b9"
      },
      "source": [
        "If you have a list of keys and a list of values, you can use `zip` and `dict` to make a dictionary.\n",
        "For example, here's how we can make a dictionary that maps from each letter to its position in the alphabet."
      ]
    },
    {
      "cell_type": "code",
      "execution_count": 314,
      "id": "dbb7d0b3",
      "metadata": {
        "id": "dbb7d0b3"
      },
      "outputs": [],
      "source": [
        "letters = 'abcdefghijklmnopqrstuvwxyz'\n",
        "numbers = range(len(letters))\n",
        "letter_map = dict(zip(letters, numbers))"
      ]
    },
    {
      "cell_type": "markdown",
      "id": "b4de6974",
      "metadata": {
        "id": "b4de6974"
      },
      "source": [
        "Now we can look up a letter and get its index in the alphabet."
      ]
    },
    {
      "cell_type": "code",
      "execution_count": 315,
      "id": "49e3fd8e",
      "metadata": {
        "id": "49e3fd8e",
        "outputId": "cd36c14b-ccaf-4fac-8b55-aa703235aee8",
        "colab": {
          "base_uri": "https://localhost:8080/"
        }
      },
      "outputs": [
        {
          "output_type": "execute_result",
          "data": {
            "text/plain": [
              "(0, 25)"
            ]
          },
          "metadata": {},
          "execution_count": 315
        }
      ],
      "source": [
        "letter_map['a'], letter_map['z']"
      ]
    },
    {
      "cell_type": "markdown",
      "id": "cc632542",
      "metadata": {
        "id": "cc632542"
      },
      "source": [
        "In this mapping, the index of `'a'` is `0` and the index of `'z'` is `25`.\n",
        "\n",
        "If you need to loop through the elements of a sequence and their indices, you can use the built-in function `enumerate`."
      ]
    },
    {
      "cell_type": "code",
      "execution_count": 316,
      "id": "9e4f3e51",
      "metadata": {
        "id": "9e4f3e51",
        "outputId": "620c5c8c-743a-42dc-b938-c8033c5db5c7",
        "colab": {
          "base_uri": "https://localhost:8080/"
        }
      },
      "outputs": [
        {
          "output_type": "execute_result",
          "data": {
            "text/plain": [
              "<enumerate at 0x7be64d847500>"
            ]
          },
          "metadata": {},
          "execution_count": 316
        }
      ],
      "source": [
        "enumerate('abc')"
      ]
    },
    {
      "cell_type": "markdown",
      "id": "92ad45bb",
      "metadata": {
        "id": "92ad45bb"
      },
      "source": [
        "The result is an **enumerate object** that loops through a sequence of pairs, where each pair contains an index (starting from 0) and an element from the given sequence."
      ]
    },
    {
      "cell_type": "code",
      "execution_count": 317,
      "id": "c1dcb46d",
      "metadata": {
        "id": "c1dcb46d",
        "outputId": "af0bb1e7-acd7-4d99-aa06-9406b1bf81ce",
        "colab": {
          "base_uri": "https://localhost:8080/"
        }
      },
      "outputs": [
        {
          "output_type": "stream",
          "name": "stdout",
          "text": [
            "0 a\n",
            "1 b\n",
            "2 c\n"
          ]
        }
      ],
      "source": [
        "for index, element in enumerate('abc'):\n",
        "    print(index, element)"
      ]
    },
    {
      "cell_type": "markdown",
      "id": "cf0b55d7",
      "metadata": {
        "id": "cf0b55d7"
      },
      "source": [
        "## Comparing and Sorting\n",
        "\n",
        "The relational operators work with tuples and other sequences.\n",
        "For example, if you use the `<` operator with tuples, it starts by comparing the first element from each sequence.\n",
        "If they are equal, it goes on to the next pair of elements, and so on, until it finds a pair that differ."
      ]
    },
    {
      "cell_type": "code",
      "execution_count": 318,
      "id": "aed20c28",
      "metadata": {
        "id": "aed20c28",
        "outputId": "c3ad5596-830c-4119-a565-a2e654e153a4",
        "colab": {
          "base_uri": "https://localhost:8080/"
        }
      },
      "outputs": [
        {
          "output_type": "execute_result",
          "data": {
            "text/plain": [
              "True"
            ]
          },
          "metadata": {},
          "execution_count": 318
        }
      ],
      "source": [
        "(0, 1, 2) < (0, 3, 4)"
      ]
    },
    {
      "cell_type": "markdown",
      "id": "65ceea86",
      "metadata": {
        "id": "65ceea86"
      },
      "source": [
        "Subsequent elements are not considered -- even if they are really big."
      ]
    },
    {
      "cell_type": "code",
      "execution_count": 319,
      "id": "4d9e73b3",
      "metadata": {
        "id": "4d9e73b3",
        "outputId": "76e9a9b9-c210-4104-9aa8-8c486c2f432d",
        "colab": {
          "base_uri": "https://localhost:8080/"
        }
      },
      "outputs": [
        {
          "output_type": "execute_result",
          "data": {
            "text/plain": [
              "True"
            ]
          },
          "metadata": {},
          "execution_count": 319
        }
      ],
      "source": [
        "(0, 1, 2000000) < (0, 3, 4)"
      ]
    },
    {
      "cell_type": "markdown",
      "id": "55e4a35e",
      "metadata": {
        "id": "55e4a35e"
      },
      "source": [
        "This way of comparing tuples is useful for sorting a list of tuples, or finding the minimum or maximum.\n",
        "As an example, let's find the most common letter in a word.\n",
        "In the previous chapter, we wrote `value_counts`, which takes a string and returns a dictionary that maps from each letter to the number of times it appears."
      ]
    },
    {
      "cell_type": "code",
      "execution_count": 320,
      "id": "2077dfa9",
      "metadata": {
        "id": "2077dfa9"
      },
      "outputs": [],
      "source": [
        "def value_counts(string):\n",
        "    counter = {}\n",
        "    for letter in string:\n",
        "        if letter not in counter:\n",
        "            counter[letter] = 1\n",
        "        else:\n",
        "            counter[letter] += 1\n",
        "    return counter"
      ]
    },
    {
      "cell_type": "markdown",
      "id": "a80012c1",
      "metadata": {
        "id": "a80012c1"
      },
      "source": [
        "Here is the result for the string `'banana'`."
      ]
    },
    {
      "cell_type": "code",
      "execution_count": 321,
      "id": "b3d40516",
      "metadata": {
        "id": "b3d40516",
        "outputId": "5139e932-98be-4ed1-8a21-75e96aac518e",
        "colab": {
          "base_uri": "https://localhost:8080/"
        }
      },
      "outputs": [
        {
          "output_type": "execute_result",
          "data": {
            "text/plain": [
              "{'b': 1, 'a': 3, 'n': 2}"
            ]
          },
          "metadata": {},
          "execution_count": 321
        }
      ],
      "source": [
        "counter = value_counts('banana')\n",
        "counter"
      ]
    },
    {
      "cell_type": "markdown",
      "id": "cc1ea4a7",
      "metadata": {
        "id": "cc1ea4a7"
      },
      "source": [
        "With only three items, we can easily see that the most frequent letter is `'a'`, which appears three times.\n",
        "But if there were more items, it would be useful to sort them automatically.\n",
        "\n",
        "We can get the items from `counter` like this."
      ]
    },
    {
      "cell_type": "code",
      "execution_count": 322,
      "id": "8288c28f",
      "metadata": {
        "id": "8288c28f",
        "outputId": "9710755e-2ddb-4d19-dbca-3e0d10c94b0c",
        "colab": {
          "base_uri": "https://localhost:8080/"
        }
      },
      "outputs": [
        {
          "output_type": "execute_result",
          "data": {
            "text/plain": [
              "dict_items([('b', 1), ('a', 3), ('n', 2)])"
            ]
          },
          "metadata": {},
          "execution_count": 322
        }
      ],
      "source": [
        "items = counter.items()\n",
        "items"
      ]
    },
    {
      "cell_type": "markdown",
      "id": "ac8dea7a",
      "metadata": {
        "id": "ac8dea7a"
      },
      "source": [
        "The result is a `dict_items` object that behaves like a list of tuples, so we can sort it like this."
      ]
    },
    {
      "cell_type": "code",
      "execution_count": 323,
      "id": "bbbade35",
      "metadata": {
        "id": "bbbade35",
        "outputId": "6480377a-6ba7-4a90-d7ac-785b119d7056",
        "colab": {
          "base_uri": "https://localhost:8080/"
        }
      },
      "outputs": [
        {
          "output_type": "execute_result",
          "data": {
            "text/plain": [
              "[('a', 3), ('b', 1), ('n', 2)]"
            ]
          },
          "metadata": {},
          "execution_count": 323
        }
      ],
      "source": [
        "sorted(items)"
      ]
    },
    {
      "cell_type": "markdown",
      "id": "b690d17a",
      "metadata": {
        "id": "b690d17a"
      },
      "source": [
        "The default behavior is to use the first element from each tuple to sort the list, and use the second element to break ties.\n",
        "\n",
        "However, to find the items with the highest counts, we want to use the second element to sort the list.\n",
        "We can do that by writing a function that takes a tuple and returns the second element."
      ]
    },
    {
      "cell_type": "code",
      "execution_count": 324,
      "id": "a4c31795",
      "metadata": {
        "id": "a4c31795"
      },
      "outputs": [],
      "source": [
        "def second_element(t):\n",
        "    return t[1]"
      ]
    },
    {
      "cell_type": "markdown",
      "id": "b964aa14",
      "metadata": {
        "id": "b964aa14"
      },
      "source": [
        "Then we can pass that function to `sorted` as an optional argument called `key`, which indicates that this function should be used to compute the **sort key** for each item."
      ]
    },
    {
      "cell_type": "code",
      "execution_count": 325,
      "id": "f3d3619a",
      "metadata": {
        "id": "f3d3619a",
        "outputId": "b08a063e-2be3-4c9d-f79a-a43f64582937",
        "colab": {
          "base_uri": "https://localhost:8080/"
        }
      },
      "outputs": [
        {
          "output_type": "execute_result",
          "data": {
            "text/plain": [
              "[('b', 1), ('n', 2), ('a', 3)]"
            ]
          },
          "metadata": {},
          "execution_count": 325
        }
      ],
      "source": [
        "sorted_items = sorted(items, key=second_element)\n",
        "sorted_items"
      ]
    },
    {
      "cell_type": "markdown",
      "id": "4dc96848",
      "metadata": {
        "id": "4dc96848"
      },
      "source": [
        "The sort key determines the order of the items in the list.\n",
        "The letter with the lowest count appears first, and the letter with the highest count appears last.\n",
        "So we can find the most common letter like this."
      ]
    },
    {
      "cell_type": "code",
      "execution_count": 326,
      "id": "f078c8a6",
      "metadata": {
        "id": "f078c8a6",
        "outputId": "a3a6796e-07c3-425b-fca2-ea4f2e31be90",
        "colab": {
          "base_uri": "https://localhost:8080/"
        }
      },
      "outputs": [
        {
          "output_type": "execute_result",
          "data": {
            "text/plain": [
              "('a', 3)"
            ]
          },
          "metadata": {},
          "execution_count": 326
        }
      ],
      "source": [
        "sorted_items[-1]"
      ]
    },
    {
      "cell_type": "markdown",
      "id": "d0d8b999",
      "metadata": {
        "id": "d0d8b999"
      },
      "source": [
        "If we only want the maximum, we don't have to sort the list.\n",
        "We can use `max`, which also takes `key` as an optional argument."
      ]
    },
    {
      "cell_type": "code",
      "execution_count": 327,
      "id": "54030d8f",
      "metadata": {
        "id": "54030d8f",
        "outputId": "255523fb-198a-4ff8-cee7-9912abb5ceab",
        "colab": {
          "base_uri": "https://localhost:8080/"
        }
      },
      "outputs": [
        {
          "output_type": "execute_result",
          "data": {
            "text/plain": [
              "('a', 3)"
            ]
          },
          "metadata": {},
          "execution_count": 327
        }
      ],
      "source": [
        "max(items, key=second_element)"
      ]
    },
    {
      "cell_type": "markdown",
      "id": "8a8327df",
      "metadata": {
        "id": "8a8327df"
      },
      "source": [
        "To find the letter with the lowest count, we could use `min` the same way."
      ]
    },
    {
      "cell_type": "markdown",
      "id": "a62394a5",
      "metadata": {
        "id": "a62394a5"
      },
      "source": [
        "## Inverting a dictionary\n",
        "\n",
        "Suppose you want to invert a dictionary so you can look up a value and get the corresponding key.\n",
        "For example, if you have a word counter that maps from each word to the number of times it appears, you could make a dictionary that maps from integers to the words that appear that number of times.\n",
        "\n",
        "But there's a problem -- the keys in a dictionary have to be unique, but the values don't. For example, in a word counter, there could be many words with the same count.\n",
        "\n",
        "So one way to invert a dictionary is to create a new dictionary where the values are lists of keys from the original.\n",
        "As an example, let's count the letters in `parrot`."
      ]
    },
    {
      "cell_type": "code",
      "execution_count": 328,
      "id": "ef158f81",
      "metadata": {
        "id": "ef158f81",
        "outputId": "9bba4dff-99d6-4002-ed99-be6f8bc064be",
        "colab": {
          "base_uri": "https://localhost:8080/"
        }
      },
      "outputs": [
        {
          "output_type": "execute_result",
          "data": {
            "text/plain": [
              "{'p': 1, 'a': 1, 'r': 2, 'o': 1, 't': 1}"
            ]
          },
          "metadata": {},
          "execution_count": 328
        }
      ],
      "source": [
        "d =  value_counts('parrot')\n",
        "d"
      ]
    },
    {
      "cell_type": "markdown",
      "id": "f4570eae",
      "metadata": {
        "id": "f4570eae"
      },
      "source": [
        "If we invert this dictionary, the result should be `{1: ['p', 'a', 'o', 't'], 2: ['r']}`, which indicates that the letters that appear once are `'p'`, `'a'`, `'o'`, and `'t'`, and the letter than appears twice is `'r'`.\n",
        "\n",
        "The following function takes a dictionary and returns its inverse as a new dictionary."
      ]
    },
    {
      "cell_type": "code",
      "execution_count": 329,
      "id": "d3607b8d",
      "metadata": {
        "id": "d3607b8d"
      },
      "outputs": [],
      "source": [
        "def invert_dict(d):\n",
        "    new = {}\n",
        "    for key, value in d.items():\n",
        "        if value not in new:\n",
        "            new[value] = [key]\n",
        "        else:\n",
        "            new[value].append(key)\n",
        "    return new"
      ]
    },
    {
      "cell_type": "markdown",
      "id": "ca5fa025",
      "metadata": {
        "id": "ca5fa025"
      },
      "source": [
        "The `for` statement loops through the keys and values in `d`.\n",
        "If the value is not already in the new dictionary, it is added and associated with a list that contains a single element.\n",
        "Otherwise it is appended to the existing list.\n",
        "\n",
        "We can test it like this:"
      ]
    },
    {
      "cell_type": "code",
      "execution_count": 330,
      "id": "692d9cf8",
      "metadata": {
        "id": "692d9cf8",
        "outputId": "ea60e28f-45a4-4e76-c5c2-f5811ff8ebc4",
        "colab": {
          "base_uri": "https://localhost:8080/"
        }
      },
      "outputs": [
        {
          "output_type": "execute_result",
          "data": {
            "text/plain": [
              "{1: ['p', 'a', 'o', 't'], 2: ['r']}"
            ]
          },
          "metadata": {},
          "execution_count": 330
        }
      ],
      "source": [
        "invert_dict(d)"
      ]
    },
    {
      "cell_type": "markdown",
      "id": "4cfb1693",
      "metadata": {
        "id": "4cfb1693"
      },
      "source": [
        "And we get the result we expected.\n",
        "\n",
        "This is the first example we've seen where the values in the dictionary are lists.\n",
        "We will see more!"
      ]
    },
    {
      "cell_type": "markdown",
      "id": "6d138cd7",
      "metadata": {
        "tags": [],
        "id": "6d138cd7"
      },
      "source": [
        "## Debugging\n",
        "\n",
        "Lists, dictionaries and tuples are **data structures**.\n",
        "In this chapter we are starting to see compound data structures, like lists of tuples, or dictionaries that contain tuples as keys and lists as values.\n",
        "Compound data structures are useful, but they are prone to errors caused when a data structure has the wrong type, size, or structure.\n",
        "For example, if a function expects a list if integers and you give it a plain old integer\n",
        "(not in a list), it probably won't work.\n",
        "\n",
        "To help debug these kinds of errors, I wrote a module called `structshape` that provides a function, also called `structshape`, that takes any kind of data structure as an argument and returns a string that summarizes its structure.\n",
        "You can download it from\n",
        "<https://raw.githubusercontent.com/AllenDowney/ThinkPython/v3/structshape.py>."
      ]
    },
    {
      "cell_type": "code",
      "execution_count": 331,
      "id": "e9f03e91",
      "metadata": {
        "tags": [],
        "id": "e9f03e91"
      },
      "outputs": [],
      "source": [
        "download('https://raw.githubusercontent.com/AllenDowney/ThinkPython/v3/structshape.py');"
      ]
    },
    {
      "cell_type": "markdown",
      "id": "646f4d55",
      "metadata": {
        "id": "646f4d55"
      },
      "source": [
        "We can import it like this."
      ]
    },
    {
      "cell_type": "code",
      "execution_count": 332,
      "id": "90ab624a",
      "metadata": {
        "id": "90ab624a"
      },
      "outputs": [],
      "source": [
        "from structshape import structshape"
      ]
    },
    {
      "cell_type": "markdown",
      "id": "86cc6ccc",
      "metadata": {
        "id": "86cc6ccc"
      },
      "source": [
        "Here's an example with a simple list."
      ]
    },
    {
      "cell_type": "code",
      "execution_count": 333,
      "id": "6794330f",
      "metadata": {
        "id": "6794330f",
        "outputId": "6f9aba97-c6f5-49cc-a96b-dff47911a5ee",
        "colab": {
          "base_uri": "https://localhost:8080/",
          "height": 35
        }
      },
      "outputs": [
        {
          "output_type": "execute_result",
          "data": {
            "text/plain": [
              "'list of 3 int'"
            ],
            "application/vnd.google.colaboratory.intrinsic+json": {
              "type": "string"
            }
          },
          "metadata": {},
          "execution_count": 333
        }
      ],
      "source": [
        "t = [1, 2, 3]\n",
        "structshape(t)"
      ]
    },
    {
      "cell_type": "markdown",
      "id": "9de4f6ec",
      "metadata": {
        "id": "9de4f6ec"
      },
      "source": [
        "Here's a list of lists."
      ]
    },
    {
      "cell_type": "code",
      "execution_count": 334,
      "id": "54cd185b",
      "metadata": {
        "id": "54cd185b",
        "outputId": "056254f7-1b69-4ad4-aab2-a9da533480bf",
        "colab": {
          "base_uri": "https://localhost:8080/",
          "height": 35
        }
      },
      "outputs": [
        {
          "output_type": "execute_result",
          "data": {
            "text/plain": [
              "'list of 3 list of 2 int'"
            ],
            "application/vnd.google.colaboratory.intrinsic+json": {
              "type": "string"
            }
          },
          "metadata": {},
          "execution_count": 334
        }
      ],
      "source": [
        "t2 = [[1,2], [3,4], [5,6]]\n",
        "structshape(t2)"
      ]
    },
    {
      "cell_type": "markdown",
      "id": "aced9984",
      "metadata": {
        "id": "aced9984"
      },
      "source": [
        "If the elements of the list are not the same type, `structshape` groups\n",
        "them by type."
      ]
    },
    {
      "cell_type": "code",
      "execution_count": 335,
      "id": "04028afd",
      "metadata": {
        "id": "04028afd",
        "outputId": "41f152ce-6690-4975-e1ad-f8fb758866ae",
        "colab": {
          "base_uri": "https://localhost:8080/",
          "height": 35
        }
      },
      "outputs": [
        {
          "output_type": "execute_result",
          "data": {
            "text/plain": [
              "'list of (3 int, float, 2 str, 2 list of int, int)'"
            ],
            "application/vnd.google.colaboratory.intrinsic+json": {
              "type": "string"
            }
          },
          "metadata": {},
          "execution_count": 335
        }
      ],
      "source": [
        "t3 = [1, 2, 3, 4.0, '5', '6', [7], [8], 9]\n",
        "structshape(t3)"
      ]
    },
    {
      "cell_type": "markdown",
      "id": "f63ff690",
      "metadata": {
        "id": "f63ff690"
      },
      "source": [
        "Here's a list of tuples."
      ]
    },
    {
      "cell_type": "code",
      "execution_count": 336,
      "id": "b5d45c88",
      "metadata": {
        "id": "b5d45c88",
        "outputId": "17f0b195-5317-4291-b087-d0f2d9638581",
        "colab": {
          "base_uri": "https://localhost:8080/",
          "height": 35
        }
      },
      "outputs": [
        {
          "output_type": "execute_result",
          "data": {
            "text/plain": [
              "'list of 3 tuple of (int, str)'"
            ],
            "application/vnd.google.colaboratory.intrinsic+json": {
              "type": "string"
            }
          },
          "metadata": {},
          "execution_count": 336
        }
      ],
      "source": [
        "s = 'abc'\n",
        "lt = list(zip(t, s))\n",
        "structshape(lt)"
      ]
    },
    {
      "cell_type": "markdown",
      "id": "c9ec67eb",
      "metadata": {
        "id": "c9ec67eb"
      },
      "source": [
        "And here's a dictionary with three items that map integers to strings."
      ]
    },
    {
      "cell_type": "code",
      "execution_count": 337,
      "id": "15131907",
      "metadata": {
        "id": "15131907",
        "outputId": "c6f97a42-2572-478a-fb13-806a4043972c",
        "colab": {
          "base_uri": "https://localhost:8080/",
          "height": 35
        }
      },
      "outputs": [
        {
          "output_type": "execute_result",
          "data": {
            "text/plain": [
              "'dict of 3 int->str'"
            ],
            "application/vnd.google.colaboratory.intrinsic+json": {
              "type": "string"
            }
          },
          "metadata": {},
          "execution_count": 337
        }
      ],
      "source": [
        "d = dict(lt)\n",
        "structshape(d)"
      ]
    },
    {
      "cell_type": "markdown",
      "id": "f29bb82b",
      "metadata": {
        "id": "f29bb82b"
      },
      "source": [
        "If you are having trouble keeping track of your data structures,\n",
        "`structshape` can help."
      ]
    },
    {
      "cell_type": "markdown",
      "id": "79d93082",
      "metadata": {
        "id": "79d93082"
      },
      "source": [
        "## Glossary\n",
        "\n",
        "**pack:**\n",
        "Collect multiple arguments into a tuple.\n",
        "\n",
        "**unpack:**\n",
        "Treat a tuple (or other sequence) as multiple arguments.\n",
        "\n",
        "**zip object:**\n",
        "The result of calling the built-in function `zip`, can be used to loop through a sequence of tuples.\n",
        "\n",
        "**enumerate object:**\n",
        "The result of calling the built-in function `enumerate`, can be used to loop through a sequence of tuples.\n",
        "\n",
        "**sort key:**\n",
        "A value, or function that computes a value, used to sort the elements of a collection.\n",
        "\n",
        "**data structure:**\n",
        "A collection of values, organized to perform certain operations efficiently."
      ]
    },
    {
      "cell_type": "markdown",
      "id": "1471b3c0",
      "metadata": {
        "id": "1471b3c0"
      },
      "source": [
        "## Exercises"
      ]
    },
    {
      "cell_type": "code",
      "execution_count": 338,
      "id": "c65d68d2",
      "metadata": {
        "tags": [],
        "id": "c65d68d2",
        "outputId": "ffb5a6e1-c472-4224-d979-241e18ca5c80",
        "colab": {
          "base_uri": "https://localhost:8080/"
        }
      },
      "outputs": [
        {
          "output_type": "stream",
          "name": "stdout",
          "text": [
            "Exception reporting mode: Verbose\n"
          ]
        }
      ],
      "source": [
        "# This cell tells Jupyter to provide detailed debugging information\n",
        "# when a runtime error occurs. Run it before working on the exercises.\n",
        "\n",
        "%xmode Verbose"
      ]
    },
    {
      "cell_type": "markdown",
      "id": "97a0352d",
      "metadata": {
        "id": "97a0352d"
      },
      "source": [
        "### Ask a virtual assistant\n",
        "\n",
        "The exercises in this chapter might be more difficult than exercises in previous chapters, so I encourage you to get help from a virtual assistant.\n",
        "When you pose more difficult questions, you might find that the answers are not correct on the first attempt, so this is a chance to practice crafting good prompts and following up with good refinements.\n",
        "\n",
        "One strategy you might consider is to break a big problems into pieces that can be solved with simple functions.\n",
        "Ask the virtual assistant to write the functions and test them.\n",
        "Then, once they are working, ask for a solution to the original problem.\n",
        "\n",
        "For some of the exercises below, I make suggestions about which data structures and algorithms to use.\n",
        "You might find these suggestions useful when you work on the problems, but they are also good prompts to pass along to a virtual assistant."
      ]
    },
    {
      "cell_type": "markdown",
      "id": "f90e011f",
      "metadata": {
        "id": "f90e011f"
      },
      "source": [
        "### Exercise\n",
        "\n",
        "In this chapter I said that tuples can be used as keys in dictionaries because they are hashable, and they are hashable because they are immutable.\n",
        "But that is not always true.\n",
        "\n",
        "If a tuple contains a mutable value, like a list or a dictionary, the tuple is no longer hashable because it contains elements that are not hashable. As an example, here's a tuple that contains two lists of integers."
      ]
    },
    {
      "cell_type": "code",
      "execution_count": 339,
      "id": "4416fe4a",
      "metadata": {
        "id": "4416fe4a",
        "outputId": "7ffcbbda-6158-41a1-e7fe-e640e9834c1e",
        "colab": {
          "base_uri": "https://localhost:8080/"
        }
      },
      "outputs": [
        {
          "output_type": "execute_result",
          "data": {
            "text/plain": [
              "([1, 2, 3], [4, 5])"
            ]
          },
          "metadata": {},
          "execution_count": 339
        }
      ],
      "source": [
        "list0 = [1, 2, 3]\n",
        "list1 = [4, 5]\n",
        "\n",
        "t = (list0, list1)\n",
        "t"
      ]
    },
    {
      "cell_type": "markdown",
      "id": "02799077",
      "metadata": {
        "id": "02799077"
      },
      "source": [
        "Write a line of code that appends the value `6` to the end of the second list in `t`. If you display `t`, the result should be `([1, 2, 3], [4, 5, 6])`."
      ]
    },
    {
      "cell_type": "code",
      "execution_count": 340,
      "id": "e6eda0e4",
      "metadata": {
        "tags": [],
        "id": "e6eda0e4",
        "outputId": "f2c9501a-b33e-4040-cbab-e94b275651c1",
        "colab": {
          "base_uri": "https://localhost:8080/"
        }
      },
      "outputs": [
        {
          "output_type": "stream",
          "name": "stdout",
          "text": [
            "([1, 2, 3], [4, 5, 6])\n"
          ]
        }
      ],
      "source": [
        "# Solution goes here\n",
        "\n",
        "list0 = [1, 2, 3]\n",
        "list1 = [4, 5]\n",
        "\n",
        "t = (list0, list1)\n",
        "\n",
        "t[1].append(6)\n",
        "print(t)"
      ]
    },
    {
      "cell_type": "markdown",
      "id": "644b1dfb",
      "metadata": {
        "id": "644b1dfb"
      },
      "source": [
        "Try to create a dictionary that maps from `t` to a string, and confirm that you get a `TypeError`."
      ]
    },
    {
      "cell_type": "code",
      "execution_count": 341,
      "id": "4fae1acc",
      "metadata": {
        "tags": [],
        "id": "4fae1acc",
        "outputId": "ebed368d-eed6-4373-94cd-54f0ebd5d7c0",
        "colab": {
          "base_uri": "https://localhost:8080/"
        }
      },
      "outputs": [
        {
          "output_type": "stream",
          "name": "stdout",
          "text": [
            "TypeError: unhashable type: 'list'\n"
          ]
        }
      ],
      "source": [
        "# Solution goes here\n",
        "\n",
        "my_dict = {}\n",
        "try:\n",
        "    my_dict[t] = \"zip code rocks\"\n",
        "except TypeError as x:\n",
        "    print(f\"TypeError: {x}\")"
      ]
    },
    {
      "cell_type": "markdown",
      "id": "fb77a352",
      "metadata": {
        "id": "fb77a352"
      },
      "source": [
        "For more on this topic, ask a virtual assistant, \"Are Python tuples always hashable?\""
      ]
    },
    {
      "cell_type": "markdown",
      "id": "bdfc8c27",
      "metadata": {
        "tags": [],
        "id": "bdfc8c27"
      },
      "source": [
        "### Exercise\n",
        "\n",
        "In this chapter we made a dictionary that maps from each letter to its index in the alphabet."
      ]
    },
    {
      "cell_type": "code",
      "execution_count": 342,
      "id": "855c7ed2",
      "metadata": {
        "id": "855c7ed2"
      },
      "outputs": [],
      "source": [
        "letters = 'abcdefghijklmnopqrstuvwxyz'\n",
        "numbers = range(len(letters))\n",
        "letter_map = dict(zip(letters, numbers))"
      ]
    },
    {
      "cell_type": "markdown",
      "id": "a8cd720b",
      "metadata": {
        "id": "a8cd720b"
      },
      "source": [
        "For example, the index of `'a'` is `0`."
      ]
    },
    {
      "cell_type": "code",
      "execution_count": 343,
      "id": "3c921f68",
      "metadata": {
        "id": "3c921f68",
        "outputId": "02eeae9a-924c-4954-a1fb-95a9bf91198c",
        "colab": {
          "base_uri": "https://localhost:8080/"
        }
      },
      "outputs": [
        {
          "output_type": "execute_result",
          "data": {
            "text/plain": [
              "0"
            ]
          },
          "metadata": {},
          "execution_count": 343
        }
      ],
      "source": [
        "letter_map['a']"
      ]
    },
    {
      "cell_type": "markdown",
      "id": "a04c25db",
      "metadata": {
        "id": "a04c25db"
      },
      "source": [
        "To go in the other direction, we can use list indexing.\n",
        "For example, the letter at index `1` is `'b'`."
      ]
    },
    {
      "cell_type": "code",
      "execution_count": 344,
      "id": "b029b0da",
      "metadata": {
        "id": "b029b0da",
        "outputId": "b9f623f2-8423-478c-bf7e-15f950ebd04e",
        "colab": {
          "base_uri": "https://localhost:8080/",
          "height": 35
        }
      },
      "outputs": [
        {
          "output_type": "execute_result",
          "data": {
            "text/plain": [
              "'b'"
            ],
            "application/vnd.google.colaboratory.intrinsic+json": {
              "type": "string"
            }
          },
          "metadata": {},
          "execution_count": 344
        }
      ],
      "source": [
        "letters[1]"
      ]
    },
    {
      "cell_type": "markdown",
      "id": "165ab770",
      "metadata": {
        "id": "165ab770"
      },
      "source": [
        "We can use `letter_map` and `letters` to encode and decode words using a Caesar cipher.\n",
        "\n",
        "A Caesar cipher is a weak form of encryption that involves shifting each letter\n",
        "by a fixed number of places in the alphabet, wrapping around to the beginning if necessary. For example, `'a'` shifted by 2 is `'c'` and `'z'` shifted by 1 is `'a'`.\n",
        "\n",
        "Write a function called `shift_word` that takes as parameters a string and an integer, and returns a new string that contains the letters from the string shifted by the given number of places.\n",
        "\n",
        "To test your function, confirm that \"cheer\" shifted by 7 is \"jolly\" and \"melon\" shifted by 16 is \"cubed\".\n",
        "\n",
        "Hints: Use the modulus operator to wrap around from `'z'` back to `'a'`.\n",
        "Loop through the letters of the word, shift each one, and append the result to a list of letters.\n",
        "Then use `join` to concatenate the letters into a string."
      ]
    },
    {
      "cell_type": "markdown",
      "id": "e7478b18",
      "metadata": {
        "tags": [],
        "id": "e7478b18"
      },
      "source": [
        "You can use this outline to get started."
      ]
    },
    {
      "cell_type": "code",
      "execution_count": 345,
      "id": "1cc07036",
      "metadata": {
        "tags": [],
        "id": "1cc07036"
      },
      "outputs": [],
      "source": [
        "def shift_word(word, n):\n",
        "    \"\"\"Shift the letters of `word` by `n` places.\n",
        "\n",
        "    >>> shift_word('cheer', 7)\n",
        "    'jolly'\n",
        "    >>> shift_word('melon', 16)\n",
        "    'cubed'\n",
        "    \"\"\"\n",
        "    letters = 'abcdefghijklmnopqrstuvwxyz'\n",
        "    shift_letters = []\n",
        "    for letter in word:\n",
        "        if letter in letters:\n",
        "            index = letters.index(letter)\n",
        "            shift_index = (index + n) % len(letters)\n",
        "            shift_letters.append(letters[shift_index])\n",
        "        else:\n",
        "            shift_letters.append(letter)\n",
        "\n",
        "    return ''.join(shift_letters)"
      ]
    },
    {
      "cell_type": "code",
      "execution_count": 346,
      "id": "96560a0e",
      "metadata": {
        "id": "96560a0e"
      },
      "outputs": [],
      "source": [
        "# Solution goes here"
      ]
    },
    {
      "cell_type": "code",
      "execution_count": 347,
      "id": "c026c6d1",
      "metadata": {
        "tags": [],
        "id": "c026c6d1",
        "outputId": "00143a8e-bba4-4ea3-de8c-46233f491335",
        "colab": {
          "base_uri": "https://localhost:8080/",
          "height": 35
        }
      },
      "outputs": [
        {
          "output_type": "execute_result",
          "data": {
            "text/plain": [
              "'jolly'"
            ],
            "application/vnd.google.colaboratory.intrinsic+json": {
              "type": "string"
            }
          },
          "metadata": {},
          "execution_count": 347
        }
      ],
      "source": [
        "shift_word('cheer', 7)"
      ]
    },
    {
      "cell_type": "code",
      "execution_count": 348,
      "id": "5814999d",
      "metadata": {
        "tags": [],
        "id": "5814999d",
        "outputId": "d5c12134-7e97-4205-e4ea-9ec4468ad99e",
        "colab": {
          "base_uri": "https://localhost:8080/",
          "height": 35
        }
      },
      "outputs": [
        {
          "output_type": "execute_result",
          "data": {
            "text/plain": [
              "'cubed'"
            ],
            "application/vnd.google.colaboratory.intrinsic+json": {
              "type": "string"
            }
          },
          "metadata": {},
          "execution_count": 348
        }
      ],
      "source": [
        "shift_word('melon', 16)"
      ]
    },
    {
      "cell_type": "markdown",
      "id": "39a67af9",
      "metadata": {
        "tags": [],
        "id": "39a67af9"
      },
      "source": [
        "You can use `doctest` to test your function."
      ]
    },
    {
      "cell_type": "code",
      "execution_count": 349,
      "id": "9464d140",
      "metadata": {
        "tags": [],
        "id": "9464d140"
      },
      "outputs": [],
      "source": [
        "from doctest import run_docstring_examples\n",
        "\n",
        "def run_doctests(func):\n",
        "    run_docstring_examples(func, globals(), name=func.__name__)\n",
        "\n",
        "run_doctests(shift_word)"
      ]
    },
    {
      "cell_type": "markdown",
      "id": "779f13af",
      "metadata": {
        "id": "779f13af"
      },
      "source": [
        "### Exercise\n",
        "\n",
        "Write a function called `most_frequent_letters` that takes a string and prints the letters in decreasing order of frequency.\n",
        "\n",
        "To get the items in decreasing order, you can use `reversed` along with `sorted` or you can pass `reverse=True` as a keyword parameter to `sorted`."
      ]
    },
    {
      "cell_type": "markdown",
      "id": "d71923e6",
      "metadata": {
        "tags": [],
        "id": "d71923e6"
      },
      "source": [
        "You can use this outline of the function to get started."
      ]
    },
    {
      "cell_type": "markdown",
      "source": [],
      "metadata": {
        "id": "slFKmAklzEET"
      },
      "id": "slFKmAklzEET"
    },
    {
      "cell_type": "code",
      "execution_count": 350,
      "id": "4309d0b5",
      "metadata": {
        "tags": [],
        "id": "4309d0b5"
      },
      "outputs": [],
      "source": [
        "def most_frequent_letters(string):\n",
        "\n",
        "     #(frequency dictionary.):\n",
        "    letter_counts = {}\n",
        "    for letter in string:\n",
        "        letter = letter.lower()\n",
        "        if letter.isalpha():\n",
        "            letter_counts[letter] = letter_counts.get(letter, 0) + 1\n",
        "\n",
        "    #(descending order):\n",
        "    sorted_letters = sorted(letter_counts.items(),\n",
        "                            key=lambda item: item[1],\n",
        "                            reverse=True)\n",
        "\n",
        "    #(Print results):\n",
        "    for letter, count in sorted_letters:\n",
        "        print(letter, count)"
      ]
    },
    {
      "cell_type": "code",
      "execution_count": 351,
      "id": "52228828",
      "metadata": {
        "id": "52228828"
      },
      "outputs": [],
      "source": [
        "# Solution goes here"
      ]
    },
    {
      "cell_type": "markdown",
      "id": "c6354c44",
      "metadata": {
        "tags": [],
        "id": "c6354c44"
      },
      "source": [
        "And this example to test your function."
      ]
    },
    {
      "cell_type": "code",
      "execution_count": 352,
      "id": "3bf2aa0d",
      "metadata": {
        "tags": [],
        "id": "3bf2aa0d",
        "outputId": "adceb457-ee8a-4aca-963d-1d4d83e160e8",
        "colab": {
          "base_uri": "https://localhost:8080/"
        }
      },
      "outputs": [
        {
          "output_type": "stream",
          "name": "stdout",
          "text": [
            "r 2\n",
            "o 2\n",
            "s 2\n",
            "u 2\n",
            "b 1\n",
            "n 1\n",
            "t 1\n",
            "a 1\n"
          ]
        }
      ],
      "source": [
        "most_frequent_letters('brontosaurus')"
      ]
    },
    {
      "cell_type": "markdown",
      "id": "2ca1e337",
      "metadata": {
        "tags": [],
        "id": "2ca1e337"
      },
      "source": [
        "Once your function is working, you can use the following code to print the most common letters in *Dracula*, which we can download from Project Gutenberg."
      ]
    },
    {
      "cell_type": "code",
      "execution_count": 353,
      "id": "e4fbf5d9",
      "metadata": {
        "tags": [],
        "id": "e4fbf5d9"
      },
      "outputs": [],
      "source": [
        "download('https://www.gutenberg.org/cache/epub/345/pg345.txt');"
      ]
    },
    {
      "cell_type": "code",
      "execution_count": 354,
      "id": "817ec689",
      "metadata": {
        "tags": [],
        "id": "817ec689",
        "outputId": "ed81aacb-a925-44d2-953c-2b92bca95d9c",
        "colab": {
          "base_uri": "https://localhost:8080/"
        }
      },
      "outputs": [
        {
          "output_type": "stream",
          "name": "stdout",
          "text": [
            "e 81740\n",
            "t 60093\n",
            "a 53776\n",
            "o 52038\n",
            "n 44940\n",
            "h 44087\n",
            "i 44073\n",
            "s 40599\n",
            "r 36509\n",
            "d 29246\n",
            "l 26829\n",
            "u 18637\n",
            "w 18477\n",
            "m 18181\n",
            "f 14469\n",
            "c 14237\n",
            "g 13175\n",
            "y 13152\n",
            "p 9704\n",
            "b 9322\n",
            "k 6383\n",
            "v 6059\n",
            "j 926\n",
            "x 872\n",
            "q 641\n",
            "z 282\n",
            "è 10\n",
            "æ 9\n",
            "ö 9\n",
            "ë 3\n",
            "é 3\n",
            "â 2\n",
            "ï 2\n",
            "á 1\n",
            "ô 1\n",
            "à 1\n"
          ]
        }
      ],
      "source": [
        "string = open('pg345.txt').read()\n",
        "most_frequent_letters(string)"
      ]
    },
    {
      "cell_type": "markdown",
      "id": "211c09c9",
      "metadata": {
        "tags": [],
        "id": "211c09c9"
      },
      "source": [
        "According to Zim's \"Codes and Secret Writing\", the sequence of letters in decreasing order of frequency in English starts with \"ETAONRISH\".\n",
        "How does this sequence compare with the results from *Dracula*?"
      ]
    },
    {
      "cell_type": "markdown",
      "id": "cbe9933e",
      "metadata": {
        "id": "cbe9933e"
      },
      "source": [
        "### Exercise\n",
        "\n",
        "In a previous exercise, we tested whether two strings are anagrams by sorting the letters in both words and checking whether the sorted letters are the same.\n",
        "Now let's make the problem a little more challenging.\n",
        "\n",
        "We'll write a program that takes a list of words and prints all the sets of words that are anagrams.\n",
        "Here is an example of what the output might look like:\n",
        "\n",
        "    ['deltas', 'desalt', 'lasted', 'salted', 'slated', 'staled']\n",
        "    ['retainers', 'ternaries']\n",
        "    ['generating', 'greatening']\n",
        "    ['resmelts', 'smelters', 'termless']\n",
        "\n",
        "Hint: For each word in the word list, sort the letters and join them back into a string. Make a dictionary that maps from this sorted string to a list of words that are anagrams of it."
      ]
    },
    {
      "cell_type": "markdown",
      "id": "4b9ed2a8",
      "metadata": {
        "tags": [],
        "id": "4b9ed2a8"
      },
      "source": [
        "The following cells download `words.txt` and read the words into a list."
      ]
    },
    {
      "cell_type": "code",
      "execution_count": 355,
      "id": "941719c1",
      "metadata": {
        "tags": [],
        "id": "941719c1"
      },
      "outputs": [],
      "source": [
        "download('https://raw.githubusercontent.com/AllenDowney/ThinkPython/v3/words.txt');"
      ]
    },
    {
      "cell_type": "code",
      "execution_count": 356,
      "id": "d2ec641b",
      "metadata": {
        "tags": [],
        "id": "d2ec641b"
      },
      "outputs": [],
      "source": [
        "word_list = open('words.txt').read().split()"
      ]
    },
    {
      "cell_type": "markdown",
      "id": "e4cc2c8c",
      "metadata": {
        "tags": [],
        "id": "e4cc2c8c"
      },
      "source": [
        "Here's the `sort_word` function we've used before."
      ]
    },
    {
      "cell_type": "code",
      "execution_count": 357,
      "id": "7ae29f73",
      "metadata": {
        "tags": [],
        "id": "7ae29f73"
      },
      "outputs": [],
      "source": [
        "def sort_word(word):\n",
        "    return ''.join(sorted(word))"
      ]
    },
    {
      "cell_type": "code",
      "execution_count": 358,
      "id": "013819a5",
      "metadata": {
        "id": "013819a5"
      },
      "outputs": [],
      "source": [
        "# Solution goes here"
      ]
    },
    {
      "cell_type": "markdown",
      "id": "70faa9f5",
      "metadata": {
        "tags": [],
        "id": "70faa9f5"
      },
      "source": [
        "To find the longest list of anagrams, you can use the following function, which takes a key-value pair where the key is a string and the value is a list of words.\n",
        "It returns the length of the list."
      ]
    },
    {
      "cell_type": "code",
      "execution_count": 359,
      "id": "fbf9ede3",
      "metadata": {
        "tags": [],
        "id": "fbf9ede3"
      },
      "outputs": [],
      "source": [
        "def value_length(pair):\n",
        "    key, value = pair\n",
        "    return len(value)"
      ]
    },
    {
      "cell_type": "markdown",
      "id": "dcda6e28",
      "metadata": {
        "tags": [],
        "id": "dcda6e28"
      },
      "source": [
        "We can use this function as a sort key to find the longest lists of anagrams."
      ]
    },
    {
      "cell_type": "code",
      "execution_count": 360,
      "id": "55435050",
      "metadata": {
        "tags": [],
        "id": "55435050"
      },
      "outputs": [],
      "source": [
        "anagram_dict = {}\n",
        "anagram_items = sorted(anagram_dict.items(), key=value_length)\n",
        "for key, value in anagram_items[-10:]:\n",
        "    print(value)\n",
        "\n"
      ]
    },
    {
      "cell_type": "markdown",
      "id": "0b6d5add",
      "metadata": {
        "tags": [],
        "id": "0b6d5add"
      },
      "source": [
        "If you want to know the longest words that have anagrams, you can use the following loop to print some of them."
      ]
    },
    {
      "cell_type": "code",
      "execution_count": 361,
      "id": "6a9320c2",
      "metadata": {
        "tags": [],
        "id": "6a9320c2"
      },
      "outputs": [],
      "source": [
        "longest = 7\n",
        "\n",
        "for key, value in anagram_items:\n",
        "    if len(value) > 1:\n",
        "        word_len = len(value[0])\n",
        "        if word_len > longest:\n",
        "            longest = word_len\n",
        "            print(value)"
      ]
    },
    {
      "cell_type": "markdown",
      "id": "4fbe939e",
      "metadata": {
        "id": "4fbe939e"
      },
      "source": [
        "### Exercise\n",
        "\n",
        "Write a function called `word_distance` that takes two words with the same length and returns the number of places where the two words differ.\n",
        "\n",
        "Hint: Use `zip` to loop through the corresponding letters of the words."
      ]
    },
    {
      "cell_type": "markdown",
      "id": "8b48dbdc",
      "metadata": {
        "tags": [],
        "id": "8b48dbdc"
      },
      "source": [
        "Here's an outline of the function with doctests you can use to check your function."
      ]
    },
    {
      "cell_type": "code",
      "execution_count": 362,
      "id": "3d5a75f8",
      "metadata": {
        "tags": [],
        "id": "3d5a75f8"
      },
      "outputs": [],
      "source": [
        "def word_distance(word1, word2):\n",
        "    \"\"\"Computes the number of places where two word differ.\n",
        "\n",
        "    >>> word_distance(\"hello\", \"hxllo\")\n",
        "    1\n",
        "    >>> word_distance(\"ample\", \"apply\")\n",
        "    2\n",
        "    >>> word_distance(\"kitten\", \"mutton\")\n",
        "    3\n",
        "    \"\"\"\n",
        "    distance = 0\n",
        "    for letter1, letter2 in zip(word1, word2):\n",
        "        if letter1 != letter2:\n",
        "            distance += 1\n",
        "    return distance\n"
      ]
    },
    {
      "cell_type": "code",
      "execution_count": 363,
      "id": "a9816dde",
      "metadata": {
        "id": "a9816dde"
      },
      "outputs": [],
      "source": [
        "# Solution goes here"
      ]
    },
    {
      "cell_type": "code",
      "execution_count": 364,
      "id": "753a23c1",
      "metadata": {
        "tags": [],
        "id": "753a23c1"
      },
      "outputs": [],
      "source": [
        "from doctest import run_docstring_examples\n",
        "\n",
        "def run_doctests(func):\n",
        "    run_docstring_examples(func, globals(), name=func.__name__)\n",
        "\n",
        "run_doctests(word_distance)"
      ]
    },
    {
      "cell_type": "markdown",
      "id": "066eec59",
      "metadata": {
        "id": "066eec59"
      },
      "source": [
        "### Exercise\n",
        "\n",
        "\"Metathesis\" is the transposition of letters in a word.\n",
        "Two words form a \"metathesis pair\" if you can transform one into the other by swapping two letters, like `converse` and `conserve`.\n",
        "Write a program that finds all of the metathesis pairs in the word list.\n",
        "\n",
        "Hint: The words in a metathesis pair must be anagrams of each other.\n",
        "\n",
        "Credit: This exercise is inspired by an example at <http://puzzlers.org>."
      ]
    },
    {
      "cell_type": "code",
      "execution_count": 365,
      "id": "57649075",
      "metadata": {
        "id": "57649075"
      },
      "outputs": [],
      "source": [
        "# Solution goes here\n",
        "\n",
        "def find_metathesis_pairs(word_list):\n",
        "    for word1 in word_list:\n",
        "        for word2 in word_list:\n",
        "            if word1 < word2 and len(word1) == len(word2) and word_distance(word1, word2) == 2:\n",
        "              print(word1, word2)\n",
        "\n"
      ]
    },
    {
      "cell_type": "markdown",
      "id": "6a028806",
      "metadata": {
        "tags": [],
        "id": "6a028806"
      },
      "source": [
        "### Exercise\n",
        "\n",
        "This is a bonus exercise that is not in the book.\n",
        "It is more challenging than the other exercises in this chapter, so you might want to ask a virtual assistant for help, or come back to it after you've read a few more chapters.\n",
        "\n",
        "Here's another Car Talk Puzzler\n",
        "(<http://www.cartalk.com/content/puzzlers>):\n",
        "\n",
        "> What is the longest English word, that remains a valid English word,\n",
        "> as you remove its letters one at a time?\n",
        ">\n",
        "> Now, letters can be removed from either end, or the middle, but you\n",
        "> can't rearrange any of the letters. Every time you drop a letter, you\n",
        "> wind up with another English word. If you do that, you're eventually\n",
        "> going to wind up with one letter and that too is going to be an\n",
        "> English word---one that's found in the dictionary. I want to know\n",
        "> what's the longest word and how many letters does it have?\n",
        ">\n",
        "> I'm going to give you a little modest example: Sprite. Ok? You start\n",
        "> off with sprite, you take a letter off, one from the interior of the\n",
        "> word, take the r away, and we're left with the word spite, then we\n",
        "> take the e off the end, we're left with spit, we take the s off, we're\n",
        "> left with pit, it, and I.\n",
        "\n",
        "Write a program to find all words that can be reduced in this way, and\n",
        "then find the longest one.\n",
        "\n",
        "This exercise is a little more challenging than most, so here are some\n",
        "suggestions:\n",
        "\n",
        "1.  You might want to write a function that takes a word and computes a\n",
        "    list of all the words that can be formed by removing one letter.\n",
        "    These are the \"children\" of the word.\n",
        "\n",
        "2.  Recursively, a word is reducible if any of its children are\n",
        "    reducible. As a base case, you can consider the empty string\n",
        "    reducible.\n",
        "\n",
        "3.  The word list we've been using doesn't contain single letter\n",
        "    words. So you might have to add \"I\" and \"a\".\n",
        "\n",
        "4.  To improve the performance of your program, you might want to\n",
        "    memoize the words that are known to be reducible."
      ]
    },
    {
      "cell_type": "code",
      "execution_count": 366,
      "id": "c19bf833",
      "metadata": {
        "id": "c19bf833"
      },
      "outputs": [],
      "source": [
        "# Solution goes here\n",
        "\n",
        "def make_word_dict():\n",
        "    \"\"\"Reads the words in words.txt and returns a dictionary\n",
        "    that contains the words as keys.\"\"\"\n",
        "    d = dict()\n",
        "    fin = open('words.txt')\n",
        "    for line in fin:\n",
        "        word = line.strip().lower()\n",
        "        d[word] = None\n",
        "\n",
        "    # Add single letter words to the word list\n",
        "    for letter in ['a', 'l']:\n",
        "        d[letter] = letter\n",
        "\n",
        "    return d\n"
      ]
    },
    {
      "cell_type": "code",
      "execution_count": 367,
      "id": "2d9764d6",
      "metadata": {
        "id": "2d9764d6"
      },
      "outputs": [],
      "source": [
        "memo = {}\n",
        "def is_reducible(word, word_dict):\n",
        "    \"\"\"If word is reducible, returns the sequence of reductions.\"\"\"\n",
        "\n",
        "    # Check if the word has already been computed before\n",
        "    if word in memo:\n",
        "        return memo[word]\n",
        "\n",
        "    # Base cases\n",
        "    if word == '':\n",
        "        return True\n",
        "    if word in word_dict:\n",
        "        # Cycle through the letters in word\n",
        "        for i in range(len(word)):\n",
        "            # Remove a letter from the word, creating child\n",
        "            child = word[:i] + word[i+1:]\n",
        "            # If child is also reducible, add it to memo\n",
        "            if is_reducible(child, word_dict):\n",
        "                memo[word] = True\n",
        "                return True\n",
        "    # Word is not reducible, add to memo\n",
        "    memo[word] = False\n",
        "    return False\n",
        ""
      ]
    },
    {
      "cell_type": "code",
      "execution_count": 368,
      "id": "5e4f5d8e",
      "metadata": {
        "id": "5e4f5d8e",
        "outputId": "d530c5c5-6099-4979-d8b8-3b61ae812d69",
        "colab": {
          "base_uri": "https://localhost:8080/"
        }
      },
      "outputs": [
        {
          "output_type": "stream",
          "name": "stdout",
          "text": [
            "Longest reducible word: carrousels\n"
          ]
        }
      ],
      "source": [
        "def find_longest_reducible(word_dict):\n",
        "    \"\"\"Finds the longest reducible word in a dictionary.\"\"\"\n",
        "    words = word_dict.keys()\n",
        "    reducible_words = [word for word in words if is_reducible(word, word_dict)]\n",
        "\n",
        "    # Find the longest word\n",
        "    longest_word = ''\n",
        "    for word in reducible_words:\n",
        "        if len(word) > len(longest_word):\n",
        "            longest_word = word\n",
        "\n",
        "    print(\"Longest reducible word:\", longest_word)\n",
        "\n",
        "word_dict = make_word_dict()\n",
        "find_longest_reducible(word_dict)"
      ]
    },
    {
      "cell_type": "code",
      "execution_count": 369,
      "id": "27d311dd",
      "metadata": {
        "id": "27d311dd"
      },
      "outputs": [],
      "source": [
        "# Solution goes here"
      ]
    },
    {
      "cell_type": "code",
      "execution_count": 370,
      "id": "68c27c7e",
      "metadata": {
        "id": "68c27c7e"
      },
      "outputs": [],
      "source": [
        "# Solution goes here"
      ]
    },
    {
      "cell_type": "code",
      "execution_count": 370,
      "id": "a34c2014",
      "metadata": {
        "id": "a34c2014"
      },
      "outputs": [],
      "source": []
    },
    {
      "cell_type": "markdown",
      "id": "a7f4edf8",
      "metadata": {
        "tags": [],
        "id": "a7f4edf8"
      },
      "source": [
        "[Think Python: 3rd Edition](https://allendowney.github.io/ThinkPython/index.html)\n",
        "\n",
        "Copyright 2024 [Allen B. Downey](https://allendowney.com)\n",
        "\n",
        "Code license: [MIT License](https://mit-license.org/)\n",
        "\n",
        "Text license: [Creative Commons Attribution-NonCommercial-ShareAlike 4.0 International](https://creativecommons.org/licenses/by-nc-sa/4.0/)"
      ]
    }
  ],
  "metadata": {
    "celltoolbar": "Tags",
    "kernelspec": {
      "display_name": "Python 3 (ipykernel)",
      "language": "python",
      "name": "python3"
    },
    "language_info": {
      "codemirror_mode": {
        "name": "ipython",
        "version": 3
      },
      "file_extension": ".py",
      "mimetype": "text/x-python",
      "name": "python",
      "nbconvert_exporter": "python",
      "pygments_lexer": "ipython3",
      "version": "3.10.11"
    },
    "colab": {
      "provenance": []
    }
  },
  "nbformat": 4,
  "nbformat_minor": 5
}